{
 "cells": [
  {
   "cell_type": "code",
   "execution_count": null,
   "id": "bf6eea32-ce0f-4865-b846-572f12306f55",
   "metadata": {},
   "outputs": [],
   "source": [
    "import time, os, sys\n",
    "import matplotlib as mpl\n",
    "import time\n",
    "from PIL import Image\n",
    "import skimage.io as io\n",
    "import cv2\n",
    "import scipy\n",
    "import scipy.ndimage\n",
    "from tifffile import imwrite\n",
    "import tifffile as tif\n",
    "import numpy as np\n",
    "import skimage.io\n",
    "from scipy import ndimage\n",
    "from PIL import Image\n",
    "import matplotlib.pyplot as plt\n",
    "from tifffile import imwrite\n",
    "import scipy\n",
    "from scipy.ndimage import shift\n",
    "from scipy.fft import fft"
   ]
  },
  {
   "cell_type": "code",
   "execution_count": null,
   "id": "59981d3e-a68b-445d-98b3-c537490497c3",
   "metadata": {},
   "outputs": [],
   "source": [
    "file_path0 = 'REFstitch.tif'\n",
    "contrast=np.zeros(60)\n",
    "angle=np.zeros(60)"
   ]
  },
  {
   "cell_type": "markdown",
   "id": "9a02a1ad-ca4d-475f-baeb-d6c757553acd",
   "metadata": {},
   "source": [
    "# Pre-processing"
   ]
  },
  {
   "cell_type": "code",
   "execution_count": null,
   "id": "dac0d5c9-d68e-4b3e-b8ec-6a251f862148",
   "metadata": {},
   "outputs": [],
   "source": [
    "def pre_processing(file_path, angle):\n",
    "    LFM1=skimage.io.imread(file_path)\n",
    "    img_rotated=ndimage.rotate(LFM1,angle,reshape=False)\n",
    "    LFM1=img_rotated.astype(np.int32)\n",
    "    h,w=LFM1.shape[:2]\n",
    "    fraction1=15/14.12\n",
    "    fraction2=15/14.12\n",
    "    img_resized=np.array(Image.fromarray(LFM1,mode='I').resize((int(fraction1*w),int(fraction2*h)),Image.Resampling.BILINEAR))\n",
    "    return img_resized\n",
    "\n",
    "angle0=0\n",
    "calibration_image=pre_processing(file_path0,angle0)\n",
    "\n",
    "section=calibration_image\n",
    "column_sums=np.sum(section,axis=0)\n",
    "columns=np.arange(len(column_sums))\n",
    "\n",
    "plt.figure(figsize=(10, 6))\n",
    "plt.plot(columns, column_sums)\n",
    "plt.title('Sum of Pixels per Column')\n",
    "plt.xlabel('Column Index')\n",
    "plt.ylabel('Sum of Pixels')\n",
    "#plt.savefig(\"sum0.svg\", format='svg')\n",
    "plt.show()"
   ]
  },
  {
   "cell_type": "markdown",
   "id": "2f4d53b0-0648-4533-8761-fc45cd92d08c",
   "metadata": {},
   "source": [
    "#Rotation angle correction"
   ]
  },
  {
   "cell_type": "code",
   "execution_count": null,
   "id": "c94155d2-8ff1-41ad-8a6e-19bf45e2358e",
   "metadata": {},
   "outputs": [],
   "source": [
    "or ii in range(60):    \n",
    "    LFM32=calibration_image.astype(np.int32)\n",
    "    LFMcrop=LFM32\n",
    "    angle[ii]=-1+ii/10\n",
    "    LFMcrop=ndimage.rotate(LFMcrop,angle[ii],reshape=False)\n",
    "    h,w=LFMcrop.shape[:2]\n",
    "    fraction=15/14.12\n",
    "    img_resized=np.array(Image.fromarray(LFMcrop,mode='I').resize((int(fraction*w),int(fraction*h)),Image.BILINEAR))\n",
    "    image=img_resized   \n",
    "    aa=(np.sum(image[750:1600,750:1600],0))\n",
    "    contrast[ii]=(np.max(aa)-np.min(aa))/(np.max(aa)+np.min(aa))\n",
    "\n",
    "plt.subplot(1,2,1)\n",
    "plt.plot(aa[0:500])\n",
    "plt.subplot(1,2,2)\n",
    "plt.plot(angle,contrast)\n",
    "MM=angle[np.argmax(contrast)]     #angle with best contrast \n",
    "print(MM)\n",
    "\n",
    "file_path0='REFstitch.tif'\n",
    "angle0=MM # Example angle\n",
    "calibration_image=pre_processing(file_path0,angle0)\n",
    "\n",
    "section=calibration_image\n",
    "column_sums=np.sum(section, axis=0)\n",
    "columns=np.arange(len(column_sums))\n",
    "\n",
    "plt.figure(figsize=(10,6))\n",
    "plt.plot(columns,column_sums)\n",
    "plt.title('Sum of Pixels per Column')\n",
    "plt.xlabel('Column Index')\n",
    "plt.ylabel('Sum of Pixels')\n",
    "plt.show()"
   ]
  },
  {
   "cell_type": "markdown",
   "id": "d9c9ac3a-200c-4374-86b4-dd28fe7b1979",
   "metadata": {},
   "source": [
    "# Fast Fourier transform to detect microlens pitch"
   ]
  },
  {
   "cell_type": "code",
   "execution_count": null,
   "id": "33500163-843d-49d9-827b-65816da65b31",
   "metadata": {},
   "outputs": [],
   "source": [
    "fft_result=fft(column_sums)\n",
    "fft_abs=np.abs(fft_result)\n",
    "freq=np.fft.fftfreq(len(column_sums))\n",
    "\n",
    "plt.figure(figsize=(10, 6))\n",
    "plt.plot(freq, fft_abs)\n",
    "plt.title('Fast Fourier Transform')\n",
    "plt.xlabel('Frequency')\n",
    "plt.ylabel('Amplitude')\n",
    "#plt.savefig(\"FFT0.svg\", format='svg')\n",
    "plt.show()"
   ]
  },
  {
   "cell_type": "code",
   "execution_count": null,
   "id": "8ad9367a-d5a9-4acf-bf28-cb3e4880aeb3",
   "metadata": {},
   "outputs": [],
   "source": [
    "peak_freq_indices=np.argpartition(fft_abs,-3)[-3:]\n",
    "sorted_peak_indices=peak_freq_indices[np.argsort(fft_abs[peak_freq_indices])][::-1]\n",
    "peak_freqs=freq[sorted_peak_indices]\n",
    "\n",
    "peak2_freq=peak_freqs[1]\n",
    "if peak2_freq!=0:\n",
    "    peak2_period=1/peak2_freq\n",
    "    print(f\"La période du signal pour le deuxième pic est {peak2_period}\")\n",
    "else:\n",
    "    print(\"Le deuxième pic a une fréquence de zéro, donc la période n'est pas définie.\")\n",
    "\n",
    "plt.figure(figsize=(10,6))\n",
    "plt.rcParams.update({'font.size':12})\n",
    "plt.plot(freq,fft_abs)\n",
    "plt.plot(peak_freqs[1:],fft_abs[sorted_peak_indices][1:],'bo')  # Ajoute des points bleus\n",
    "plt.title('FFT ')\n",
    "plt.xlabel('Frequency')\n",
    "plt.ylabel('Amplitude')\n",
    "#plt.savefig(\"FFT0-point.svg\", format='svg')\n",
    "plt.show()"
   ]
  }
 ],
 "metadata": {
  "kernelspec": {
   "display_name": "Python 3 (ipykernel)",
   "language": "python",
   "name": "python3"
  },
  "language_info": {
   "codemirror_mode": {
    "name": "ipython",
    "version": 3
   },
   "file_extension": ".py",
   "mimetype": "text/x-python",
   "name": "python",
   "nbconvert_exporter": "python",
   "pygments_lexer": "ipython3",
   "version": "3.8.17"
  }
 },
 "nbformat": 4,
 "nbformat_minor": 5
}
