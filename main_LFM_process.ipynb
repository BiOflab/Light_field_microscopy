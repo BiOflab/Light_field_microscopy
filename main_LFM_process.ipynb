{
 "cells": [
  {
   "cell_type": "code",
   "execution_count": null,
   "id": "0c130091-dc6b-4474-84c1-945eddede676",
   "metadata": {},
   "outputs": [],
   "source": [
    "import time, os, sys\n",
    "import matplotlib as mpl\n",
    "import time\n",
    "from PIL import Image\n",
    "import skimage.io as io\n",
    "import cv2\n",
    "import scipy\n",
    "import scipy.ndimage\n",
    "from tifffile import imwrite\n",
    "import tifffile as tif\n",
    "import numpy as np\n",
    "import skimage.io\n",
    "from scipy import ndimage\n",
    "from PIL import Image\n",
    "import matplotlib.pyplot as plt\n",
    "from tifffile import imwrite\n",
    "import scipy\n",
    "from scipy.ndimage import shift\n",
    "from scipy.fft import fft\n",
    "import imagej\n",
    "from tifffile import TiffFile, imsave\n",
    "from skimage.transform import rotate"
   ]
  },
  {
   "cell_type": "markdown",
   "id": "7b503abd-e780-4c81-a889-4077246989c1",
   "metadata": {},
   "source": [
    "# Path imagej"
   ]
  },
  {
   "cell_type": "code",
   "execution_count": null,
   "id": "17e08c78-6ac7-45cc-80da-b4e653517182",
   "metadata": {},
   "outputs": [],
   "source": [
    "save_dir= \"path\" #check that imagej is installed on the right path\n",
    "if not os.path.exists(save_dir):\n",
    "    os.makedirs(save_dir)"
   ]
  },
  {
   "cell_type": "markdown",
   "id": "a400fa33-86e3-4b8f-be82-285bd38b82ca",
   "metadata": {},
   "source": [
    "# Pre-processing"
   ]
  },
  {
   "cell_type": "code",
   "execution_count": null,
   "id": "09cbc2ba-a8ba-47d2-b1d9-c4b0fac86375",
   "metadata": {},
   "outputs": [],
   "source": [
    "def pre_processing(file_path):\n",
    "   LFM1=skimage.io.imread(file_path)\n",
    "   img_rotated=ndimage.rotate(LFM1,-0.025,reshape=False)  #Rotation correction in degrees of the microlens\n",
    "   LFM1=img_rotated.astype(np.int32)\n",
    "   LFMcrop2=LFM1\n",
    "   h,w=LFMcrop2.shape[:2]\n",
    "   fraction1=15/14.12                                      #fraction1 & fraction2 defined by FFT+PRE-PROCESSING.PY to find the pitch between 2 microlens \n",
    "   fraction2=15/14.12\n",
    "   img_resized=np.array(Image.fromarray(LFMcrop2,mode='I').resize((int(fraction1*w),int(fraction2*h)),Image.Resampling.BILINEAR)) #reshape the image to have 15 perpsectives (int values)\n",
    "   return img_resized\n"
   ]
  },
  {
   "cell_type": "markdown",
   "id": "f3a11fae-0a30-4026-a94f-72dd3d88013d",
   "metadata": {},
   "source": [
    "# Microlens detection"
   ]
  },
  {
   "cell_type": "code",
   "execution_count": null,
   "id": "e2689521-8cfe-4134-88e4-4b12219542b8",
   "metadata": {},
   "outputs": [],
   "source": [
    "#Detection map of microlens\n",
    "\n",
    "Nx=140                               #Number of microlenses in X and Y on the raw image (140 x 140 for example)\n",
    "Ny=140\n",
    "def calibrate_LFM(img):\n",
    "    LFM=img;\n",
    "    x0=10                            #Absolute coordinates x0,y0 of the first microlens on the raw image in X and Y\n",
    "    y0=10\n",
    "    LFM=np.zeros([Nx,Ny,15,15])      #4D array to store spatial and angular dimensions\n",
    "    XX=np.zeros([Nx,Ny])\n",
    "    YY=np.zeros([Nx,Ny])\n",
    "    CenterX=np.zeros([Nx,Ny])        # Microlens centers parameterizing the 4D array of the raw image\n",
    "    CenterY=np.zeros([Nx,Ny])\n",
    "    for ii in range(0,Nx):\n",
    "        for jj in range(0,Ny):\n",
    "            if ii==0 and jj==0:\n",
    "                CenterX[ii,jj]=x0\n",
    "                CenterY[ii,jj]=y0\n",
    "            elif ii==0 and jj!=0:\n",
    "                CenterX[ii,jj]=CenterX[ii,jj-1]+15\n",
    "                CenterY[ii,jj]=CenterY[ii,jj-1]\n",
    "            elif ii!=0 and jj==0:\n",
    "                CenterX[ii,jj]=CenterX[ii-1,jj]\n",
    "                CenterY[ii,jj]=CenterY[ii-1,jj]+15\n",
    "            else:\n",
    "                CenterX[ii,jj]=CenterX[ii,jj-1]+15\n",
    "                CenterY[ii,jj]=CenterY[ii,jj-1]\n",
    "            intermediate=img[int(CenterY[ii,jj]):int(CenterY[ii,jj])+15,int(CenterX[ii,jj]):int(CenterX[ii,jj])+15] #Iteratively add 15 pixels to shift to the next center.\n",
    "            result=np.where(intermediate==np.amax(intermediate))        #Center of mass detection\n",
    "            a=np.asarray(result)\n",
    "            ymax=a[0,0]\n",
    "            xmax=a[1,0]\n",
    "            XX[ii,jj]=xmax\n",
    "            YY[ii,jj]=ymax\n",
    "            LFM[ii,jj]=img[int(CenterY[ii,jj]+ymax)-7:int(CenterY[ii,jj]+ymax)+8,int(CenterX[ii,jj]+xmax)-7:int(CenterX[ii,jj]+xmax)+8]           \n",
    "    return LFM,CenterX,CenterY,XX,YY"
   ]
  },
  {
   "cell_type": "markdown",
   "id": "e6455af9-9a3d-41eb-a083-9707c9ea0b3e",
   "metadata": {},
   "source": [
    "# functions"
   ]
  },
  {
   "cell_type": "code",
   "execution_count": null,
   "id": "a8e98708-f544-433c-9c0d-863761ce0c75",
   "metadata": {},
   "outputs": [],
   "source": [
    "def compute_intensity(LFM):            #image at z=0\n",
    "    I0=np.sum(LFM,3)\n",
    "    I0=np.sum(I0,2)\n",
    "    return I0\n",
    "\n",
    "def compute_LFM(img,CenterX,CenterY):  #LFM[x, y, u, v] extract positions and perspective to create volumetric images \n",
    "    LFM=np.zeros([Nx,Ny,15,15])\n",
    "    for ii in range(0,Nx):\n",
    "        for jj in range(0,Ny):  \n",
    "            LFM[ii,jj,:,:]=img[int(CenterY[ii,jj]+CY[ii,jj])-7:int(CenterY[ii,jj]+CY[ii,jj])+8,int(CenterX[ii,jj]+CX[ii,jj])-7:int(CenterX[ii,jj]+CX[ii,jj])+8]   \n",
    "            #LFM[ii,jj,:,:]=img[int(CenterY[ii,jj])-7:int(CenterY[ii,jj])+8,int(CenterX[ii,jj])-7:int(CenterX[ii,jj])+8]\n",
    "    return LFM\n",
    "\n",
    "def rendered_focus(C,returnVal=False):                    #Shift and Sum algorithm\n",
    "    rendered=np.zeros((rendered_height,rendered_width))\n",
    "    center_uv=int(side/2)\n",
    "    for u in(range(0,side)):\n",
    "        for v in range(0,side):\n",
    "            shift_x, shift_y=C*(center_uv-u),C*(center_uv-v)\n",
    "            rendered[:, :]+=shift(radiance[:,:,u,v],(shift_x,shift_y))\n",
    "    final=rendered/(side*side)\n",
    "    if returnVal:\n",
    "        return final"
   ]
  },
  {
   "cell_type": "markdown",
   "id": "05c3a3f4-f626-4162-a8fc-65e82434c2f9",
   "metadata": {},
   "source": [
    "# loading images"
   ]
  },
  {
   "cell_type": "code",
   "execution_count": null,
   "id": "e5d07682-e2e2-42ee-9019-172864186f14",
   "metadata": {},
   "outputs": [],
   "source": [
    "file_path0='REF.tif'       #Image reference without illumination\r\n",
    "file_path='sample.tif'         #Image with sample \r\n",
    "calibration_image=pre_processing(file_path0) \r\n",
    "bright=pre_processing(file_path)\r\n",
    "LFM,centerX,centerY,CX,CY=calibrate_LFM(calibration_image) #Centering of the Raw Image"
   ]
  },
  {
   "cell_type": "markdown",
   "id": "0f7ed497-2bc8-48b0-a248-e5275b667838",
   "metadata": {},
   "source": [
    "# Normalization "
   ]
  },
  {
   "cell_type": "code",
   "execution_count": null,
   "id": "d7da9115-2bc4-4f50-9254-22f7bbe7c4f0",
   "metadata": {},
   "outputs": [],
   "source": [
    "LFM01=compute_LFM((bright-calibration_image)/(calibration_image+1),centerX,centerY) # Normalization of the raw image to enhance contrast\n",
    "aa=compute_intensity(LFM01)\n",
    "imwrite('intensity.tif',aa)\n",
    "plt.imshow(aa)"
   ]
  },
  {
   "cell_type": "markdown",
   "id": "fe7e6abc-75af-4f81-bcf2-19b89c5c14cb",
   "metadata": {},
   "source": [
    "# stack 3D of all images"
   ]
  },
  {
   "cell_type": "code",
   "execution_count": null,
   "id": "b0fe27ce-a95c-4f25-beec-ce78c077f06a",
   "metadata": {},
   "outputs": [],
   "source": [
    "for i in range(0,6):\n",
    "    for j in range(1,7):\n",
    "        file_path0=os.path.join(save_dir,f'refX{j}_{i}.tif')       \n",
    "        calibration_image=pre_processing(file_path0)\n",
    "        file_path=os.path.join(save_dir,f'imageX{j}_{i}.tif')\n",
    "        bright=pre_processing(file_path)\n",
    "        bright=(bright-calibration_image)/(calibration_image+1)\n",
    "        LFM,centerX,centerY,CX,CY=calibrate_LFM(calibration_image)\n",
    "        LFM01=compute_LFM(bright,centerX,centerY)                            \n",
    "        LFM02=LFM01\n",
    "        aa=compute_intensity(LFM01)\n",
    "        rendered_height,rendered_width=LFM01.shape[0],LFM01.shape[1]\n",
    "        side=LFM02.shape[2]                                            #side=pitch/2\n",
    "        radiance=LFM01                                                 #4 dimensions of the LFM array \n",
    "        C=0.5  \n",
    "        final_image=rendered_focus(C,returnVal=True)\n",
    "        rendered_images=[]                                             #Array to store the volumetric image \n",
    "        C_values=np.linspace(-2.5,2.5,40)                              # coefficient C that depends on the depth\n",
    "        for C in (C_values):                                           # Apply Shift and Sum algorithm: set the depth limits and the number of slices\n",
    "            rendered_image=rendered_focus(C,returnVal=True)\n",
    "            rendered_images.append(rendered_image)  \n",
    "        rendered_images_stack=np.stack(rendered_images)\n",
    "        file_path = os.path.join(save_dir,f'stack3D3_{j}_{i}.tif')     #individual stack with FOV of camera \n",
    "        imwrite(file_path,rendered_images_stack)"
   ]
  },
  {
   "cell_type": "markdown",
   "id": "d3343f67-d1fb-44a5-8c7e-1c994943bc3c",
   "metadata": {},
   "source": [
    "# Stitching"
   ]
  },
  {
   "cell_type": "code",
   "execution_count": null,
   "id": "666ca85b-5588-421a-a1e3-799fd9b2c4e7",
   "metadata": {},
   "outputs": [],
   "source": [
    "#%% Stitching process along X\n",
    "\n",
    "path =\"C:/Users/pheni/OneDrive/Documents/Fiji.app/\" #check that imagej is installed on the right path\n",
    "ij=imagej.init(path,headless=False)\n",
    "macros = [f'''\n",
    "run(\"Grid/Collection stitching\", \"type=[Positions from file] order=[Defined by TileConfiguration] directory=[{path}] layout_file={i}_3D.txt fusion_method=[Linear Blending] regression_threshold=0.30 max/avg_displacement_threshold=2.50 absolute_displacement_threshold=3.50 computation_parameters=[Save memory (but be slower)] image_output=[Fuse and display]\");\n",
    "saveAs(\"Tiff\", \"{path}/stack3D3_{i}.tif\");\n",
    "''' for i in range(1,7)]\n",
    "for macro in macros:\n",
    "    ij.py.run_macro(macro)\n",
    "\n",
    "#rotation correction\n",
    "\n",
    "file_paths=[\"C:/Users/pheni/OneDrive/Documents/Fiji.app/stack3D3_{i}.tif\".format(i) for i in range(1,7)]\n",
    "rotation_factors=[4.8,2.5,0,-2.3,-4.7,-7.5]          # Rotation factors on each stitched image along the X-axis.\n",
    "crop_values = {\n",
    "    'stack3D3_1.tif':(29,25),        # Crop of zero pixels values for the top and bottom of the X stitchingimages\n",
    "    'stack3D3_2.tif':(14,15),\n",
    "    'stack3D3_3.tif':(10,10),\n",
    "    'stack3D3_4.tif':(13,15),\n",
    "    'stack3D3_5.tif':(25,25),\n",
    "    'stack3D3_6.tif':(38,39)\n",
    "}  \n",
    "\n",
    "#Apply the rotation and crop\n",
    "\n",
    "for file_path,rotation_factor in zip(file_paths,rotation_factors):\n",
    "    with TiffFile(file_path) as tif:\n",
    "        images=[page.asarray() for page in tif.pages]\n",
    "    rotated_and_cropped_images=[]\n",
    "    for image in images:\n",
    "        image_rotated=rotate(image,rotation_factor)\n",
    "        height,width=image_rotated.shape[:2]\n",
    "        top_crop,bottom_crop=crop_values[os.path.basename(file_path)]\n",
    "        cropped_image=image_rotated[top_crop:height-bottom_crop,:]\n",
    "        rotated_and_cropped_images.append(cropped_image)\n",
    "    stacked_images=np.stack(rotated_and_cropped_images,axis=0)\n",
    "    imsave(\"C:/Users/pheni/OneDrive/Documents/Fiji.app/stack3D3_1{}.tif\".format(os.path.basename(file_path)[9]),stacked_images)\n",
    "\n",
    "#final stitch in Y\n",
    "\n",
    "macro8=f'''\n",
    "run(\"Grid/Collection stitching\", \"type=[Positions from file] order=[Defined by TileConfiguration] directory=[{path}] layout_file=FINAL_3D.txt fusion_method=[Linear Blending] regression_threshold=0.30 max/avg_displacement_threshold=2.50 absolute_displacement_threshold=3.50 computation_parameters=[Save memory (but be slower)] image_output=[Fuse and display]\");\n",
    "saveAs(\"Tiff\", \"{path}/FINAL_stitch.tif\");\n",
    "'''\n",
    "ij.py.run_macro(macro8)"
   ]
  },
  {
   "cell_type": "markdown",
   "id": "630ad386-108d-4bbc-8478-22eb7855a784",
   "metadata": {},
   "source": [
    "# Process 3x3"
   ]
  },
  {
   "cell_type": "code",
   "execution_count": null,
   "id": "4e2d365a-d8e0-4829-b827-933b879ef281",
   "metadata": {},
   "outputs": [],
   "source": [
    "#This part describes the process of 3x3 \n",
    "\n",
    "generated_stacks=[]\n",
    "for i in range(1,10):\n",
    "    stack_name=f'sample_low_res{i}.tif'             #9 images with low resolution that are shifted in X and Y with 1/2 of a microlens\n",
    "    image_path=os.path.join(save_dir,stack_name)\n",
    "    stack=io.imread(image_path)\n",
    "    generated_stacks.append(stack)\n",
    "    \n",
    "# 3X3 algorithm \n",
    "\n",
    "depth=generated_stacks[0].shape[0]\n",
    "combined_stack=[]\n",
    "for d in range(depth):\n",
    "    images=[stack[d] for stack in generated_stacks]\n",
    "    AA=np.zeros([420,420])                          #Size of the image with enhanced resolution\n",
    "    for ii in range(140):                            \n",
    "        for jj in range(140):                     \n",
    "            AA[0+3*ii,0+3*jj]=images[0][ii,jj]      #Put the right acquisition pattern to place the pixels correctly\n",
    "            AA[0+3*ii,1+3*jj]=images[1][ii,jj] \n",
    "            AA[0+3*ii,2+3*jj]=images[2][ii,jj]  \n",
    "            AA[1+3*ii,0+3*jj]=images[3][ii,jj]  \n",
    "            AA[1+3*ii,1+3*jj]=images[4][ii,jj]  \n",
    "            AA[1+3*ii,2+3*jj]=images[5][ii,jj]  \n",
    "            AA[2+3*ii,0+3*jj]=images[6][ii,jj] \n",
    "            AA[2+3*ii,1+3*jj]=images[7][ii,jj] \n",
    "            AA[2+3*ii,2+3*jj]=images[8][ii,jj]\n",
    "    combined_stack.append(AA)\n",
    "\n",
    "combined_stack=np.array(combined_stack)\n",
    "imwrite(os.path.join(save_dir,'start_3x3_0.5.tif'),combined_stack) #Final image 3x3.tif\n",
    "max_intensity_projection=np.max(combined_stack,axis=0)\n",
    "imwrite(os.path.join(save_dir,'bright_max_intensity_projection.tiff'),max_intensity_projection)"
   ]
  }
 ],
 "metadata": {
  "kernelspec": {
   "display_name": "Python 3 (ipykernel)",
   "language": "python",
   "name": "python3"
  },
  "language_info": {
   "codemirror_mode": {
    "name": "ipython",
    "version": 3
   },
   "file_extension": ".py",
   "mimetype": "text/x-python",
   "name": "python",
   "nbconvert_exporter": "python",
   "pygments_lexer": "ipython3",
   "version": "3.8.17"
  }
 },
 "nbformat": 4,
 "nbformat_minor": 5
}
